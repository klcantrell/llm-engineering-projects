{
 "cells": [
  {
   "cell_type": "markdown",
   "id": "fe12c203-e6a6-452c-a655-afb8a03a4ff5",
   "metadata": {},
   "source": [
    "# End of week 1 exercise\n",
    "\n",
    "To demonstrate your familiarity with OpenAI API, and also Ollama, build a tool that takes a technical question,  \n",
    "and responds with an explanation. This is a tool that you will be able to use yourself during the course!"
   ]
  },
  {
   "cell_type": "code",
   "execution_count": 1,
   "id": "c1070317-3ed9-4659-abe3-828943230e03",
   "metadata": {},
   "outputs": [],
   "source": [
    "# imports\n",
    "\n",
    "import os\n",
    "from dotenv import load_dotenv\n",
    "from IPython.display import Markdown, display, update_display\n",
    "from openai import OpenAI"
   ]
  },
  {
   "cell_type": "code",
   "execution_count": 2,
   "id": "4a456906-915a-4bfd-bb9d-57e505c5093f",
   "metadata": {},
   "outputs": [],
   "source": [
    "# constants\n",
    "\n",
    "MODEL_GPT = 'gpt-4o-mini'\n",
    "MODEL_LLAMA = 'llama3.2'"
   ]
  },
  {
   "cell_type": "code",
   "execution_count": 3,
   "id": "a8d7923c-5f28-4c30-8556-342d7c8497c1",
   "metadata": {},
   "outputs": [],
   "source": [
    "# set up environment\n",
    "\n",
    "load_dotenv(override=True)\n",
    "api_key = os.getenv('OPENAI_API_KEY')\n",
    "openai = OpenAI()"
   ]
  },
  {
   "cell_type": "code",
   "execution_count": 4,
   "id": "3f0d0137-52b0-47a8-81a8-11a90a010798",
   "metadata": {},
   "outputs": [],
   "source": [
    "# here is the question; type over this to ask something new\n",
    "\n",
    "question = \"\"\"\n",
    "Please explain what this code does and why:\n",
    "yield from {book.get(\"author\") for book in books if book.get(\"author\")}\n",
    "\"\"\""
   ]
  },
  {
   "cell_type": "code",
   "execution_count": 5,
   "id": "60ce7000-a4a5-4cce-a261-e75ef45063b4",
   "metadata": {},
   "outputs": [
    {
     "data": {
      "text/markdown": [
       "Sure! Let's break down the code step by step to understand what it does and why.\n",
       "\n",
       "### Code Breakdown\n",
       "\n",
       "python\n",
       "yield from {book.get(\"author\") for book in books if book.get(\"author\")}\n",
       "\n",
       "\n",
       "1. **`yield from`**: \n",
       "   - This is used in Python when you want to delegate part of a generator's operations to another generator. It allows you to yield all values from an iterable (like a set, list, etc.) one by one. \n",
       "\n",
       "2. **Set comprehension**: \n",
       "   - The expression `{book.get(\"author\") for book in books if book.get(\"author\")}` is a set comprehension. A set comprehension creates a set, which is a collection that automatically avoids duplicate values.\n",
       "\n",
       "3. **Iterating through `books`**: \n",
       "   - `for book in books`: This part of the comprehension loops through each item in `books`. Here, `books` is assumed to be a collection (like a list) of dictionaries, where each dictionary likely represents a book and contains various attributes (like title, author, etc.).\n",
       "\n",
       "4. **Getting the author**: \n",
       "   - `book.get(\"author\")`: This retrieves the value associated with the key `\"author\"` from each book dictionary. \n",
       "     - `.get()` is a method that safely accesses a dictionary's key and returns `None` if the key doesn't exist, instead of raising a KeyError.\n",
       "\n",
       "5. **Filtering out None values**:\n",
       "   - `if book.get(\"author\")`: This condition checks if an author exists (i.e., it is not `None`) before including it in the set. If `book.get(\"author\")` returns `None`, that book will be skipped.\n",
       "\n",
       "### What Does the Code Do?\n",
       "\n",
       "- Essentially, this code is creating a set of unique authors from a list of books while filtering out any books that do not have an author.\n",
       "- By wrapping this in `yield from`, it allows to yield each unique author one at a time from a generator.\n",
       "\n",
       "### Example\n",
       "\n",
       "Let’s consider an example to make this clearer.\n",
       "\n",
       "python\n",
       "books = [\n",
       "    {\"title\": \"Book 1\", \"author\": \"Author A\"},\n",
       "    {\"title\": \"Book 2\", \"author\": \"Author B\"},\n",
       "    {\"title\": \"Book 3\", \"author\": None},\n",
       "    {\"title\": \"Book 4\", \"author\": \"Author A\"},\n",
       "]\n",
       "\n",
       "def unique_authors(books):\n",
       "    yield from {book.get(\"author\") for book in books if book.get(\"author\")}\n",
       "\n",
       "# Using the generator\n",
       "for author in unique_authors(books):\n",
       "    print(author)\n",
       "\n",
       "\n",
       "### Output\n",
       "\n",
       "Author A\n",
       "Author B\n",
       "\n",
       "\n",
       "### Conclusion\n",
       "\n",
       "- The `unique_authors` function processes the `books` list, extracting the `author` field from each book dictionary, filtering out any that are `None`, and then using `yield from` to yield each unique author one at a time.\n",
       "- This is useful when you want to generate a list of authors efficiently without creating a whole list in memory upfront, especially when working with large datasets."
      ],
      "text/plain": [
       "<IPython.core.display.Markdown object>"
      ]
     },
     "metadata": {},
     "output_type": "display_data"
    }
   ],
   "source": [
    "# Get gpt-4o-mini to answer, with streaming\n",
    "\n",
    "system_prompt = \"\"\"\n",
    "You are a tutor who explains complex technical topics very well.\n",
    "You break complex concepts into simpler pieces and explain each piece building up\n",
    "understanding of the more complex idea step by step.\n",
    "You give clear examples that makes abstract ideas concrete and easy to visualize.\n",
    "You will be provided with a question. Provide your response to the question in markdown.\n",
    "\"\"\"\n",
    "\n",
    "stream = openai.chat.completions.create(\n",
    "    model=MODEL_GPT,\n",
    "    messages=[\n",
    "        {\"role\": \"system\", \"content\": system_prompt},\n",
    "        {\"role\": \"user\", \"content\": question}\n",
    "      ],\n",
    "    stream=True\n",
    ")\n",
    "\n",
    "response = \"\"\n",
    "display_handle = display(Markdown(\"\"), display_id=True)\n",
    "for chunk in stream:\n",
    "    response += chunk.choices[0].delta.content or ''\n",
    "    response = response.replace(\"```\",\"\").replace(\"markdown\", \"\")\n",
    "    update_display(Markdown(response), display_id=display_handle.display_id)"
   ]
  },
  {
   "cell_type": "code",
   "execution_count": 12,
   "id": "8f7c8ea8-4082-4ad0-8751-3301adcf6538",
   "metadata": {},
   "outputs": [
    {
     "data": {
      "text/markdown": [
       "**Breaking Down the Code**\n",
       "=========================\n",
       "\n",
       "The given code snippet is written in Python and utilizes a concept called generators, which produce a series of values over time. Let's break it down:\n",
       "\n",
       "\n",
       "# Dictionary comprehension with a generator expression\n",
       "values = {book.get(\"author\") for book in books if book.get(\"author\")}\n",
       "\n",
       "\n",
       "This dictionary comprehension is used to create a new dictionary (`values`) containing only the `author` values from the existing list of dictionaries (`books`). However, instead of creating the entire dictionary at once with all the data, this expression uses generators.\n",
       "\n",
       "**Why Use Generators?**\n",
       "---------------------\n",
       "\n",
       "Generators are useful when dealing with large datasets or infinite sequences because they yield values one by one. In Python, you can use the `yield from` keyword, which allows the generator to \"give credit\" to another generator, passing on its generated values instead of having to generate them again.\n",
       "\n",
       "**Code Explaination**\n",
       "---------------------\n",
       "\n",
       "\n",
       "# This line defines a new generator expression.\n",
       "yield from {book.get(\"author\") for book in books if book.get(\"author\")}\n",
       "\n",
       "\n",
       "Here's how it works:\n",
       "\n",
       "- `{book.get(\"author\") for book in books if book.get(\"author\")}` creates an iterator, which generates values on-the-fly.\n",
       "\n",
       "The `yield from` keyword then comes into play. This statement combines the two generators together. It takes all values produced by the sub-generator (`{book.get(\"author\") for book in books if book.get(\"author\")}`) and yields them as part of its own sequence.\n",
       "\n",
       "**Equivalent Non-Generator Code**\n",
       "---------------------------------\n",
       "\n",
       "Here's how you might write this using a function to generate the author names directly:\n",
       "\n",
       "\n",
       "def get_authors(books):\n",
       "    authors = []\n",
       "    for book in books:\n",
       "        if book.get(\"author\"):\n",
       "            authors.append(book.get(\"author\"))\n",
       "    yield from authors\n",
       "\n",
       "authors = list(get_authors(books))\n",
       "\n",
       "\n",
       "However, as can be seen, the original code produces the generators in a single line of code.\n",
       "\n",
       "**Example Usage**\n",
       "-----------------\n",
       "\n",
       "\n",
       "# List of books with their authors.\n",
       "books = [\n",
       "    {\"title\": \"Harry Potter\", \"author\": \"JK Rowling\"},\n",
       "    {\"title\": \"1984\", \"author\": None},\n",
       "    {\"title\": \"The Lord of the Rings\", \"author\": \"JRR Tolkien\"}\n",
       "]\n",
       "\n",
       "authors = {book.get(\"author\") for book in books if book.get(\"author\")}\n",
       "for author in authors:\n",
       "    print(author)\n"
      ],
      "text/plain": [
       "<IPython.core.display.Markdown object>"
      ]
     },
     "metadata": {},
     "output_type": "display_data"
    }
   ],
   "source": [
    "# Get Llama 3.2 to answer\n",
    "\n",
    "ollama_via_openai = OpenAI(base_url='http://localhost:11434/v1', api_key='ollama')\n",
    "stream = ollama_via_openai.chat.completions.create(\n",
    "    model=MODEL_LLAMA,\n",
    "    messages=[\n",
    "        {\"role\": \"system\", \"content\": system_prompt},\n",
    "        {\"role\": \"user\", \"content\": question}\n",
    "    ],\n",
    "    stream=True\n",
    ")\n",
    "\n",
    "response = \"\"\n",
    "display_handle = display(Markdown(\"\"), display_id=True)\n",
    "for chunk in stream:\n",
    "    response += chunk.choices[0].delta.content or ''\n",
    "    response = response.replace(\"```\",\"\").replace(\"markdown\", \"\")\n",
    "    update_display(Markdown(response), display_id=display_handle.display_id)"
   ]
  },
  {
   "cell_type": "code",
   "execution_count": null,
   "id": "fd9cfca0",
   "metadata": {},
   "outputs": [],
   "source": []
  }
 ],
 "metadata": {
  "kernelspec": {
   "display_name": "llms",
   "language": "python",
   "name": "python3"
  },
  "language_info": {
   "codemirror_mode": {
    "name": "ipython",
    "version": 3
   },
   "file_extension": ".py",
   "mimetype": "text/x-python",
   "name": "python",
   "nbconvert_exporter": "python",
   "pygments_lexer": "ipython3",
   "version": "3.11.11"
  }
 },
 "nbformat": 4,
 "nbformat_minor": 5
}
